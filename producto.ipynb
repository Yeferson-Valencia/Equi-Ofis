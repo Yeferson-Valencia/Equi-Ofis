{
 "cells": [
  {
   "cell_type": "code",
   "execution_count": 1,
   "metadata": {},
   "outputs": [
    {
     "name": "stdout",
     "output_type": "stream",
     "text": [
      "Se han guardado las rutas de las imágenes en el archivo /home/yeferson/Escritorio/Equi-ofis/productos.csv.\n"
     ]
    }
   ],
   "source": [
    "import os\n",
    "import csv\n",
    "\n",
    "diccionario = {'Totem': 'Puff', 'Zuhé gris': 'Sillas Ergonómicas', 'Drop': 'Interlocutoras', 'Zuhé tapizada': 'Sillas Ergonómicas', 'Q1 media': 'Sillas Ergonómicas',\n",
    "               'Tesis': 'Salas de Capacitaciones', 'Wiwa malla': 'Sillas Ergonómicas', 'Q1 alta': 'Sillas Ergonómicas', 'Zuhé malla': 'Sillas Ergonómicas', \n",
    "               'Wiwa tapizada': 'Sillas Ergonómicas', 'Zuhé malla': 'Sillas Ergonómicas', 'Drop tapizada': 'Interlocutoras', 'Musa': 'Poltronas',\n",
    "               'Wiwa tapizada': 'Sillas Ergonómicas'}\n",
    "\n",
    "def guardar_rutas_imagenes(ruta_directorio, archivo_csv):\n",
    "    with open(archivo_csv, 'w', newline='') as archivo:\n",
    "        escritor_csv = csv.writer(archivo)\n",
    "        escritor_csv.writerow(['Nombre', 'Clase', 'Subclase', 'Descripción', 'Ruta'])\n",
    "\n",
    "        for carpeta_raiz, carpetas, archivos in os.walk(ruta_directorio):\n",
    "            for archivo in archivos:\n",
    "                ruta_completa = os.path.join(carpeta_raiz, archivo)\n",
    "                ruta_relativa = os.path.relpath(ruta_completa, ruta_directorio)\n",
    "                nombre_archivo, extension = os.path.splitext(archivo)\n",
    "                subclase = os.path.basename(carpeta_raiz)\n",
    "                if os.path.basename(os.path.dirname(carpeta_raiz)) == 'Imagenes':\n",
    "                    clase = None\n",
    "                else:\n",
    "                    clase = os.path.basename(os.path.dirname(carpeta_raiz))\n",
    "\n",
    "                descripcion = ''  # Agrega aquí la lógica para obtener la descripción si es necesario\n",
    "                \n",
    "                if nombre_archivo in diccionario:\n",
    "                    subclase = diccionario[nombre_archivo]\n",
    "\n",
    "                escritor_csv.writerow([nombre_archivo, clase, subclase, descripcion, ruta_relativa])\n",
    "\n",
    "    print(f\"Se han guardado las rutas de las imágenes en el archivo {archivo_csv}.\")\n",
    "\n",
    "# Ejemplo de uso\n",
    "ruta_imagenes = 'assets/Imagenes'\n",
    "archivo_csv = '/home/yeferson/Escritorio/Equi-ofis/productos.csv'\n",
    "\n",
    "guardar_rutas_imagenes(ruta_imagenes, archivo_csv)\n"
   ]
  },
  {
   "cell_type": "code",
   "execution_count": 2,
   "metadata": {},
   "outputs": [
    {
     "name": "stdout",
     "output_type": "stream",
     "text": [
      "Puff\n"
     ]
    }
   ],
   "source": [
    "diccionario = {'Totem': 'Puff', 'Zuhé gris': 'Sillas Ergonómicas', 'Drop': 'Interlocutoras', 'Zuhé tapizada': 'Sillas Ergonómicas', 'Q1 media': 'Sillas Ergonómicas',\n",
    "               'Tesis': 'Salas de Capacitaciones', 'Wiwa malla': 'Sillas Ergonómicas', 'Q1 alta': 'Sillas Ergonómicas', 'Zuhé malla': 'Sillas Ergonómicas', \n",
    "               'Wiwa tapizada': 'Sillas Ergonómicas', 'Drop tapizada': 'Interlocutoras', 'Musa': 'Poltronas'}\n",
    "\n",
    "print(diccionario['Totem'])"
   ]
  }
 ],
 "metadata": {
  "kernelspec": {
   "display_name": "Python 3",
   "language": "python",
   "name": "python3"
  },
  "language_info": {
   "codemirror_mode": {
    "name": "ipython",
    "version": 3
   },
   "file_extension": ".py",
   "mimetype": "text/x-python",
   "name": "python",
   "nbconvert_exporter": "python",
   "pygments_lexer": "ipython3",
   "version": "3.12.2"
  }
 },
 "nbformat": 4,
 "nbformat_minor": 2
}
